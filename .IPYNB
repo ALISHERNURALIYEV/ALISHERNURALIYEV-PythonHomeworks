{
 "cells": [
  {
   "cell_type": "markdown",
   "metadata": {},
   "source": [
    "#Sum of Elements: Given a list of numbers, calculate the total of all the elements\n",
    "# raqamlar ro'yxati berilgan barcha elementlarning yig'indisini toping\n",
    "\n",
    "\n",
    "\n",
    "#Method 1\n",
    "list=[1, 2, 3, 4, 5, 6, 7, 8, 9]\n",
    "x=sum(list)\n",
    "print(x)"
   ]
  },
  {
   "cell_type": "markdown",
   "metadata": {},
   "source": [
    "#1\n",
    "list =  [1, 2, 3, 4, 5, 6, 7, 8, 9]\n",
    "print(max(list))\n",
    "print(min(list))"
   ]
  },
  {
   "cell_type": "markdown",
   "metadata": {},
   "source": [
    "#Max Element: From a given list, determine the largest element.\n",
    "# BERILGAN ro'yxatdan eng katta elementni aniqlash\n",
    "#1\n",
    "list =  [1, 2, 3, 4, 5, 6, 7, 8, 9]\n",
    "print(max(list))\n",
    "print(min(list))"
   ]
  },
  {
   "cell_type": "markdown",
   "metadata": {},
   "source": [
    "#1 METHOD  2\n",
    "from collections import Counter\n",
    "\n",
    "\n",
    "list = [1, 13, 12, 12, 12, 13, 14, 15, 1, 6, 12]\n",
    "count=dict()\n",
    "  \n",
    "for i in list:\n",
    "      if i in count:\n",
    "        count[i]+=1\n",
    "      else:\n",
    "          count[i]=1\n",
    "print(count)\n",
    "\n",
    "\n",
    "\n",
    "#1 Count Occurrences: Given a list and an element, find how many times the element appears in the list.\n",
    "#1 ro'yxat berilgan bo'lsa element ro'yxatda necha marta ishtirok etganini toping.\n",
    "#METHOD 1 .\n",
    "list = [1,13,12,12,12,13,14,15,1,6,12]\n",
    "x=12\n",
    "print(list.count(x))\n",
    "\n",
    "#3  method 3\n",
    "list = ['a', 'b', 'c' , 'd', 'b', 'b']\n",
    "x='b' \n",
    "print(list.count(x))"
   ]
  }
 ],
 "metadata": {
  "language_info": {
   "name": "python"
  }
 },
 "nbformat": 4,
 "nbformat_minor": 2
}
